{
 "cells": [
  {
   "cell_type": "code",
   "execution_count": 1,
   "source": [
    "import cv2"
   ],
   "outputs": [],
   "metadata": {}
  },
  {
   "cell_type": "code",
   "execution_count": 2,
   "source": [
    "import imutils"
   ],
   "outputs": [],
   "metadata": {}
  },
  {
   "cell_type": "code",
   "execution_count": 3,
   "source": [
    "import pytesseract"
   ],
   "outputs": [],
   "metadata": {}
  },
  {
   "cell_type": "code",
   "execution_count": 4,
   "source": [
    "pytesseract.pytesseract.tesseract_cmd=r\"C:/Users/hp/AppData/Local/Tesseract-OCR/tesseract.exe\""
   ],
   "outputs": [],
   "metadata": {
    "tags": []
   }
  },
  {
   "cell_type": "code",
   "execution_count": 5,
   "source": [
    "image=cv2.imread(\"bike.jpg\")"
   ],
   "outputs": [],
   "metadata": {}
  },
  {
   "cell_type": "code",
   "execution_count": 6,
   "source": [
    "image=imutils.resize(image,width=500)"
   ],
   "outputs": [],
   "metadata": {}
  },
  {
   "cell_type": "code",
   "execution_count": 7,
   "source": [
    "cv2.imshow(\"original image\",image)\r\n",
    "cv2.waitKey(0)"
   ],
   "outputs": [
    {
     "output_type": "execute_result",
     "data": {
      "text/plain": [
       "-1"
      ]
     },
     "metadata": {},
     "execution_count": 7
    }
   ],
   "metadata": {}
  },
  {
   "cell_type": "code",
   "execution_count": 8,
   "source": [
    "gray=cv2.cvtColor(image,cv2.COLOR_BGR2GRAY)\r\n",
    "cv2.imshow(\"Gray Scale Image\",gray)\r\n",
    "cv2.waitKey(0)"
   ],
   "outputs": [
    {
     "output_type": "execute_result",
     "data": {
      "text/plain": [
       "-1"
      ]
     },
     "metadata": {},
     "execution_count": 8
    }
   ],
   "metadata": {}
  },
  {
   "cell_type": "code",
   "execution_count": 9,
   "source": [
    "gray=cv2.bilateralFilter(gray,11,17,17)\r\n",
    "cv2.imshow(\"Smoother Image\",gray)\r\n",
    "cv2.waitKey(0)\r\n"
   ],
   "outputs": [
    {
     "output_type": "execute_result",
     "data": {
      "text/plain": [
       "-1"
      ]
     },
     "metadata": {},
     "execution_count": 9
    }
   ],
   "metadata": {}
  },
  {
   "cell_type": "code",
   "execution_count": 10,
   "source": [
    "edged=cv2.Canny(gray,170,200)\r\n",
    "cv2.imshow(\"Canny Edge\",edged)\r\n",
    "cv2.waitKey(0)"
   ],
   "outputs": [
    {
     "output_type": "execute_result",
     "data": {
      "text/plain": [
       "-1"
      ]
     },
     "metadata": {},
     "execution_count": 10
    }
   ],
   "metadata": {}
  },
  {
   "cell_type": "code",
   "execution_count": 11,
   "source": [
    "cnts,new=cv2.findContours(edged.copy(),cv2.RETR_LIST,cv2.CHAIN_APPROX_SIMPLE)\r\n",
    "image1=image.copy()\r\n",
    "cv2.drawContours(image1,cnts,-1,(0,255,0),3)\r\n",
    "cv2.imshow(\"Canny After Contouring\",image1)\r\n",
    "cv2.waitKey(0)"
   ],
   "outputs": [
    {
     "output_type": "execute_result",
     "data": {
      "text/plain": [
       "-1"
      ]
     },
     "metadata": {},
     "execution_count": 11
    }
   ],
   "metadata": {}
  },
  {
   "cell_type": "code",
   "execution_count": 12,
   "source": [
    "cnts=sorted(cnts,key=cv2.contourArea,reverse=True)[:30]\r\n",
    "NumberPlateCount=None"
   ],
   "outputs": [],
   "metadata": {}
  },
  {
   "cell_type": "code",
   "execution_count": 13,
   "source": [
    "image2=image.copy()\r\n",
    "cv2.drawContours(image2,cnts,-1,(0,255,0),3)\r\n",
    "cv2.imshow(\"Top 30 Contours\",image2)\r\n",
    "cv2.waitKey(0)"
   ],
   "outputs": [
    {
     "output_type": "execute_result",
     "data": {
      "text/plain": [
       "-1"
      ]
     },
     "metadata": {},
     "execution_count": 13
    }
   ],
   "metadata": {}
  },
  {
   "cell_type": "code",
   "execution_count": 14,
   "source": [
    "count=0\r\n",
    "name=1\r\n",
    "for i in cnts:\r\n",
    "    perimeter=cv2.arcLength(i,True)\r\n",
    "    approx=cv2.approxPolyDP(i,0.02*perimeter,True)\r\n",
    "    if(len(approx)==4):\r\n",
    "        NumberPlateCount=approx\r\n",
    "        x,y,w,h=cv2.boundingRect(i)\r\n",
    "        crp_img=image[y:y+h,x:x+w]\r\n",
    "        cv2.imwrite(str(name)+'.png',crp_img)\r\n",
    "        name+=1\r\n",
    "        break\r\n",
    "cv2.drawContours(image,[NumberPlateCount],-1,(0,255,0),3)\r\n",
    "cv2.imshow(\"Final Image\",image)\r\n",
    "cv2.waitKey(0)"
   ],
   "outputs": [
    {
     "output_type": "execute_result",
     "data": {
      "text/plain": [
       "-1"
      ]
     },
     "metadata": {},
     "execution_count": 14
    }
   ],
   "metadata": {}
  },
  {
   "cell_type": "code",
   "execution_count": 15,
   "source": [
    "crp_img_loc='1.png'\r\n",
    "cv2.imshow(\"Cropped Image\",cv2.imread(crp_img_loc))\r\n"
   ],
   "outputs": [],
   "metadata": {}
  },
  {
   "cell_type": "code",
   "execution_count": 16,
   "source": [
    "text=pytesseract.image_to_string(crp_img_loc)\r\n",
    "print(\"Number is: \",text)\r\n",
    "cv2.waitKey(0)"
   ],
   "outputs": [
    {
     "output_type": "stream",
     "name": "stdout",
     "text": [
      "Number is:  T_upsoH' 3144\n"
     ]
    },
    {
     "output_type": "execute_result",
     "data": {
      "text/plain": [
       "-1"
      ]
     },
     "metadata": {},
     "execution_count": 16
    }
   ],
   "metadata": {}
  },
  {
   "cell_type": "code",
   "execution_count": 17,
   "source": [
    "#oracle connection\r\n",
    "import cx_Oracle"
   ],
   "outputs": [],
   "metadata": {}
  },
  {
   "cell_type": "code",
   "execution_count": 18,
   "source": [
    "try:\r\n",
    "    conn = cx_Oracle.connect(\"system/Cdac1234@localhost:1521/orcl\")\r\n",
    "except Exception as err:\r\n",
    "    print(\"Error while creating the connection\",err)\r\n",
    "else:\r\n",
    "    print(conn.version)\r\n",
    "    try:\r\n",
    "        cur=conn.cursor()\r\n",
    "        #sql_insert=\"\"\"INSERT INTO p VALUES(:1)\"\"\",(text)\r\n",
    "        \r\n",
    "        cur.execute(\"INSERT INTO p VALUES(:1)\",(text,))\r\n",
    "    except Exception as err:\r\n",
    "        print(\"error while inserting the data\",err)\r\n",
    "    else:\r\n",
    "        print(\"insert completed\")\r\n",
    "        conn.commit()\r\n",
    "finally:\r\n",
    "    cur.close()\r\n",
    "    conn.close()"
   ],
   "outputs": [
    {
     "output_type": "stream",
     "name": "stdout",
     "text": [
      "11.2.0.1.0\n",
      "insert completed\n"
     ]
    }
   ],
   "metadata": {}
  },
  {
   "cell_type": "code",
   "execution_count": 19,
   "source": [
    "#pdf generation\r\n",
    "from reportlab.lib import colors\r\n",
    "from reportlab.lib.pagesizes import letter\r\n",
    "from reportlab.platypus import Table, TableStyle, Paragraph\r\n",
    "from reportlab.pdfgen.canvas import Canvas\r\n",
    "from reportlab.lib.styles import getSampleStyleSheet\r\n",
    "import cx_Oracle\r\n",
    "\r\n",
    "try:\r\n",
    "    conn = cx_Oracle.connect(\"system/Cdac1234@localhost:1521/orcl\")\r\n",
    "except Exception as err:\r\n",
    "    print(\"Error while creating the connection\",err)\r\n",
    "else:\r\n",
    "    print(conn.version)\r\n",
    "    try:\r\n",
    "        cur=conn.cursor()\r\n",
    "        sql_extract=\"\"\"SELECT * from p WHERE rownum > ( SELECT (MAX(ROWNUM)-10) FROM p)\"\"\"\r\n",
    "        x=cur.execute(sql_extract)\r\n",
    "        for r in x:\r\n",
    "            y=str(r)\r\n",
    "            print(y[1:-2])\r\n",
    "            \r\n",
    "    except Exception as err:\r\n",
    "        print(\"error while inserting the data\",err)\r\n",
    "    else:\r\n",
    "        print(\"insert completed\")\r\n",
    "        conn.commit()\r\n",
    "finally:\r\n",
    "    cur.close()\r\n",
    "    conn.close()\r\n",
    "    \r\n",
    "    \r\n",
    "    \r\n"
   ],
   "outputs": [
    {
     "output_type": "stream",
     "name": "stdout",
     "text": [
      "11.2.0.1.0\n",
      "'urm 131429455’'\n",
      "'urm 131429455’'\n",
      "'urm 131429455’'\n",
      "'urm 131429455’'\n",
      "\"T_upsoH' 3144\"\n",
      "insert completed\n"
     ]
    }
   ],
   "metadata": {}
  },
  {
   "cell_type": "code",
   "execution_count": 20,
   "source": [
    "styles = getSampleStyleSheet()\r\n",
    "style = styles[\"BodyText\"]\r\n",
    "\r\n",
    "canv = Canvas(\"doc105.pdf\", pagesize=letter)\r\n",
    "\r\n",
    "header = Paragraph(\"<bold><font size=18>e-CHALLAN</font></bold>\", style)\r\n",
    "\r\n",
    "data = [['number_plate', 'challan_amount'],\r\n",
    "        [y[1:-2], '500']]\r\n",
    "t = Table(data)\r\n",
    "t.setStyle(TableStyle([(\"BOX\", (0, 0), (-1, -1), 0.25, colors.black),\r\n",
    "                       ('INNERGRID', (0, 0), (-1, -1), 0.25, colors.black)]))\r\n",
    "data_len = len(data)\r\n",
    "\r\n",
    "for each in range(data_len):\r\n",
    "    if each % 2 == 0:\r\n",
    "        bg_color = colors.whitesmoke\r\n",
    "    else:\r\n",
    "        bg_color = colors.lightgrey\r\n",
    "\r\n",
    "    t.setStyle(TableStyle([('BACKGROUND', (0, each), (-1, each), bg_color)]))\r\n",
    "\r\n",
    "aW = 540\r\n",
    "aH = 720\r\n",
    "\r\n",
    "w, h = header.wrap(aW, aH)\r\n",
    "header.drawOn(canv, 72, aH)\r\n",
    "aH = aH - h\r\n",
    "w, h = t.wrap(aW, aH)\r\n",
    "t.drawOn(canv, 72, aH-h)\r\n",
    "canv.save()"
   ],
   "outputs": [],
   "metadata": {}
  },
  {
   "cell_type": "code",
   "execution_count": null,
   "source": [],
   "outputs": [],
   "metadata": {}
  }
 ],
 "metadata": {
  "kernelspec": {
   "name": "python3",
   "display_name": "Python 3.8.8 64-bit ('base': conda)"
  },
  "language_info": {
   "codemirror_mode": {
    "name": "ipython",
    "version": 3
   },
   "file_extension": ".py",
   "mimetype": "text/x-python",
   "name": "python",
   "nbconvert_exporter": "python",
   "pygments_lexer": "ipython3",
   "version": "3.8.8"
  },
  "interpreter": {
   "hash": "c0f70214c0dd213f07f54ee5d6e0ea644bdbba35113c9bfe8aaa0d1db03ad5dd"
  }
 },
 "nbformat": 4,
 "nbformat_minor": 5
}